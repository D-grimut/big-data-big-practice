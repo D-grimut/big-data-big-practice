{
  "nbformat": 4,
  "nbformat_minor": 0,
  "metadata": {
    "colab": {
      "provenance": []
    },
    "kernelspec": {
      "name": "python3",
      "display_name": "Python 3"
    },
    "language_info": {
      "name": "python"
    }
  },
  "cells": [
    {
      "cell_type": "code",
      "execution_count": 1,
      "metadata": {
        "colab": {
          "base_uri": "https://localhost:8080/",
          "height": 219
        },
        "id": "4FJuDO0xIXfM",
        "outputId": "d70e59a1-59e7-4c74-fb9e-82d976bde0d2"
      },
      "outputs": [
        {
          "output_type": "execute_result",
          "data": {
            "text/plain": [
              "<pyspark.sql.session.SparkSession at 0x7d1e7629af50>"
            ],
            "text/html": [
              "\n",
              "            <div>\n",
              "                <p><b>SparkSession - in-memory</b></p>\n",
              "                \n",
              "        <div>\n",
              "            <p><b>SparkContext</b></p>\n",
              "\n",
              "            <p><a href=\"http://b71a20552e8d:4040\">Spark UI</a></p>\n",
              "\n",
              "            <dl>\n",
              "              <dt>Version</dt>\n",
              "                <dd><code>v3.5.4</code></dd>\n",
              "              <dt>Master</dt>\n",
              "                <dd><code>local[*]</code></dd>\n",
              "              <dt>AppName</dt>\n",
              "                <dd><code>pyspark-shell</code></dd>\n",
              "            </dl>\n",
              "        </div>\n",
              "        \n",
              "            </div>\n",
              "        "
            ]
          },
          "metadata": {},
          "execution_count": 1
        }
      ],
      "source": [
        "from pyspark.sql import SparkSession\n",
        "\n",
        "# recall that we need a spark session to work with spark\n",
        "# SparkSession.builder creates that session and master(\"local[*]\") runs it localy using whaterver cores are avaiable\n",
        "# finlay, the session is created, or an existing session is returned\n",
        "spark = SparkSession.builder.master(\"local[*]\").getOrCreate()\n",
        "spark"
      ]
    },
    {
      "cell_type": "code",
      "source": [
        "df = spark.read.csv('housing_data.csv', header=True)\n",
        "df.show()"
      ],
      "metadata": {
        "colab": {
          "base_uri": "https://localhost:8080/"
        },
        "id": "BHWnQQcbajwJ",
        "outputId": "8deb9cb4-d530-4224-bcef-5d5928110d8d"
      },
      "execution_count": 2,
      "outputs": [
        {
          "output_type": "stream",
          "name": "stdout",
          "text": [
            "+-----------+--------+---------+--------------+---+------+\n",
            "|Size (sqft)|Bedrooms|Bathrooms|Location_Score|Age| Price|\n",
            "+-----------+--------+---------+--------------+---+------+\n",
            "|       1360|       1|        3|             5|  2|158336|\n",
            "|       4272|       1|        2|             6| 41|251463|\n",
            "|       3592|       3|        2|             4| 53|203428|\n",
            "|        966|       5|        2|             4| 38|100910|\n",
            "|       4926|       4|        1|             4| 40|316409|\n",
            "|       3944|       1|        2|             2| 48|183604|\n",
            "|       3671|       4|        2|             4| 10|305304|\n",
            "|       3419|       1|        2|             1| 38|175073|\n",
            "|        630|       1|        3|             6| 23| 74297|\n",
            "|       2185|       1|        3|             1| 59| 40815|\n",
            "|       1269|       5|        1|            10| 45|114709|\n",
            "|       2891|       2|        1|             6| 18|206371|\n",
            "|       2933|       4|        3|             1|  3|303013|\n",
            "|       1684|       5|        3|             6| 25|181570|\n",
            "|       3885|       5|        3|            10| 37|323934|\n",
            "|       4617|       5|        2|             8| 41|311091|\n",
            "|       3404|       5|        2|             2| 31|249459|\n",
            "|        974|       5|        3|             2| 38| 90367|\n",
            "|       1582|       3|        2|             4| 44|112861|\n",
            "|       3058|       4|        2|             3| 45|203985|\n",
            "+-----------+--------+---------+--------------+---+------+\n",
            "only showing top 20 rows\n",
            "\n"
          ]
        }
      ]
    },
    {
      "cell_type": "code",
      "source": [
        "from pyspark.sql.functions import *\n",
        "\n",
        "# cheching for null values\n",
        "df.select([sum(col(c).isNull().cast(\"int\")).alias(c) for c in df.columns]).show()\n",
        "df = df.withColumn(\"Price\", df.Price.cast(\"float\"))\n",
        "df = df.withColumn(\"Bedrooms\", df.Bedrooms.cast(\"int\"))\n",
        "df = df.withColumn(\"Bathrooms\", df.Bathrooms.cast(\"int\"))\n",
        "df = df.withColumn(\"Location_Score\", df.Location_Score.cast(\"float\"))\n",
        "df = df.withColumn(\"Age\", df.Age.cast(\"int\"))\n",
        "df = df.withColumn(\"Size (sqft)\", col(\"Size (sqft)\").cast(\"int\"))\n",
        "df.show()"
      ],
      "metadata": {
        "colab": {
          "base_uri": "https://localhost:8080/"
        },
        "id": "fWhwiTthbBlB",
        "outputId": "26d80cdf-1339-4405-aeab-e6b8620537af"
      },
      "execution_count": 19,
      "outputs": [
        {
          "output_type": "stream",
          "name": "stdout",
          "text": [
            "+-----------+--------+---------+--------------+---+-----+\n",
            "|Size (sqft)|Bedrooms|Bathrooms|Location_Score|Age|Price|\n",
            "+-----------+--------+---------+--------------+---+-----+\n",
            "|          0|       0|        0|             0|  0|    0|\n",
            "+-----------+--------+---------+--------------+---+-----+\n",
            "\n",
            "+-----------+--------+---------+--------------+---+--------+\n",
            "|Size (sqft)|Bedrooms|Bathrooms|Location_Score|Age|   Price|\n",
            "+-----------+--------+---------+--------------+---+--------+\n",
            "|       1360|       1|        3|           5.0|  2|158336.0|\n",
            "|       4272|       1|        2|           6.0| 41|251463.0|\n",
            "|       3592|       3|        2|           4.0| 53|203428.0|\n",
            "|        966|       5|        2|           4.0| 38|100910.0|\n",
            "|       4926|       4|        1|           4.0| 40|316409.0|\n",
            "|       3944|       1|        2|           2.0| 48|183604.0|\n",
            "|       3671|       4|        2|           4.0| 10|305304.0|\n",
            "|       3419|       1|        2|           1.0| 38|175073.0|\n",
            "|        630|       1|        3|           6.0| 23| 74297.0|\n",
            "|       2185|       1|        3|           1.0| 59| 40815.0|\n",
            "|       1269|       5|        1|          10.0| 45|114709.0|\n",
            "|       2891|       2|        1|           6.0| 18|206371.0|\n",
            "|       2933|       4|        3|           1.0|  3|303013.0|\n",
            "|       1684|       5|        3|           6.0| 25|181570.0|\n",
            "|       3885|       5|        3|          10.0| 37|323934.0|\n",
            "|       4617|       5|        2|           8.0| 41|311091.0|\n",
            "|       3404|       5|        2|           2.0| 31|249459.0|\n",
            "|        974|       5|        3|           2.0| 38| 90367.0|\n",
            "|       1582|       3|        2|           4.0| 44|112861.0|\n",
            "|       3058|       4|        2|           3.0| 45|203985.0|\n",
            "+-----------+--------+---------+--------------+---+--------+\n",
            "only showing top 20 rows\n",
            "\n"
          ]
        }
      ]
    },
    {
      "cell_type": "markdown",
      "source": [
        "Spark ML stuff (which we never saw in class btw)"
      ],
      "metadata": {
        "id": "4PlnsN1qkaz1"
      }
    },
    {
      "cell_type": "code",
      "source": [
        "from pyspark.sql import SparkSession\n",
        "from pyspark.ml.regression import LinearRegression\n",
        "from pyspark.ml.feature import VectorAssembler\n",
        "\n",
        "# the idea is similar to how sklearn works - but we MUST use the Spark libraries, since spark is distributed and its libraries are optimized for handeling distributed data\n",
        "train_data, test_data = df.randomSplit([0.8, 0.2], seed=42)\n",
        "\n",
        "# Assemble feature (Size) - The VectorAssembler takes all the values from the input columns and combines them into a single vector\n",
        "assembler = VectorAssembler(inputCols=[\"Size (sqft)\"], outputCol=\"features\")\n",
        "\n",
        "# using .transform to trasform the data itnto feature vectors\n",
        "train_transformed = assembler.transform(train_data)\n",
        "test_transformed = assembler.transform(test_data)\n",
        "\n",
        "train_transformed.show()\n",
        "\n",
        "# Train the Simple Linear Regression Model - we use column features as the \"feature\" column\n",
        "# and the \"Size (sqft)\" as the label (what we want to predict)\n",
        "lr = LinearRegression(featuresCol=\"features\", labelCol=\"Price\")\n",
        "lr_model = lr.fit(train_transformed)\n",
        "\n",
        "# Predictions\n",
        "predictions = lr_model.transform(test_transformed)"
      ],
      "metadata": {
        "colab": {
          "base_uri": "https://localhost:8080/"
        },
        "id": "ULHtMWH6boDZ",
        "outputId": "2bfe794e-f26c-4c01-eeaa-02ce74c1d178"
      },
      "execution_count": 27,
      "outputs": [
        {
          "output_type": "stream",
          "name": "stdout",
          "text": [
            "+-----------+--------+---------+--------------+---+--------+--------+\n",
            "|Size (sqft)|Bedrooms|Bathrooms|Location_Score|Age|   Price|features|\n",
            "+-----------+--------+---------+--------------+---+--------+--------+\n",
            "|        504|       3|        3|           6.0| 35| 90691.0| [504.0]|\n",
            "|        516|       4|        3|           4.0| 14|148090.0| [516.0]|\n",
            "|        564|       2|        3|           7.0| 46| 18921.0| [564.0]|\n",
            "|        598|       3|        3|           5.0| 59| 37600.0| [598.0]|\n",
            "|        614|       4|        3|           7.0| 45| 63473.0| [614.0]|\n",
            "|        619|       2|        2|           1.0| 52|  1392.0| [619.0]|\n",
            "|        630|       1|        3|           6.0| 23| 74297.0| [630.0]|\n",
            "|        643|       4|        1|           7.0| 57| 38908.0| [643.0]|\n",
            "|        646|       3|        1|          10.0|  1|164197.0| [646.0]|\n",
            "|        654|       3|        2|           3.0| 34| 27073.0| [654.0]|\n",
            "|        661|       5|        1|           2.0| 37| 50481.0| [661.0]|\n",
            "|        689|       4|        3|           3.0| 35| 75284.0| [689.0]|\n",
            "|        690|       4|        2|           9.0|  3|174152.0| [690.0]|\n",
            "|        697|       3|        3|           8.0| 29|123181.0| [697.0]|\n",
            "|        700|       1|        2|           5.0| 16| 92900.0| [700.0]|\n",
            "|        706|       2|        1|           6.0| 19| 64239.0| [706.0]|\n",
            "|        725|       5|        1|           5.0|  1|143715.0| [725.0]|\n",
            "|        741|       2|        3|           6.0|  4|182264.0| [741.0]|\n",
            "|        762|       2|        1|           4.0| 30| 23168.0| [762.0]|\n",
            "|        801|       5|        3|           4.0| 50| 72111.0| [801.0]|\n",
            "+-----------+--------+---------+--------------+---+--------+--------+\n",
            "only showing top 20 rows\n",
            "\n"
          ]
        }
      ]
    },
    {
      "cell_type": "code",
      "source": [
        "# Assemble all feature columns, that we want to make into a feature vector - we explude price since that is what we want to predict\n",
        "feature_cols = [col for col in df.columns if col != \"Price\"]\n",
        "assembler = VectorAssembler(inputCols=feature_cols, outputCol=\"features\")\n",
        "\n",
        "train_transformed = assembler.transform(train_data)\n",
        "test_transformed = assembler.transform(test_data)\n",
        "\n",
        "# we can see by this output that the feature vector is a vector with the feature for each column - we dont just the mix the data, we keep it sperated for the model to learn\n",
        "train_transformed.show()\n",
        "\n",
        "# since the train_transformed is a DF, then we just tell it where the label colum is located by name - this eliminates the need of having x-train and y-train.\n",
        "lr_multi = LinearRegression(featuresCol=\"features\", labelCol=\"Price\")\n",
        "lr_multi_model = lr_multi.fit(train_transformed)\n",
        "\n",
        "# Predictions - also a datafram with a new column called \"prediction\"\n",
        "predictions_multi = lr_multi_model.transform(test_transformed)\n",
        "predictions_multi.show()"
      ],
      "metadata": {
        "colab": {
          "base_uri": "https://localhost:8080/"
        },
        "id": "S3f4_600i-WB",
        "outputId": "700e65a7-7753-4e88-fb67-50e73f359edd"
      },
      "execution_count": 31,
      "outputs": [
        {
          "output_type": "stream",
          "name": "stdout",
          "text": [
            "+-----------+--------+---------+--------------+---+--------+--------------------+\n",
            "|Size (sqft)|Bedrooms|Bathrooms|Location_Score|Age|   Price|            features|\n",
            "+-----------+--------+---------+--------------+---+--------+--------------------+\n",
            "|        504|       3|        3|           6.0| 35| 90691.0|[504.0,3.0,3.0,6....|\n",
            "|        516|       4|        3|           4.0| 14|148090.0|[516.0,4.0,3.0,4....|\n",
            "|        564|       2|        3|           7.0| 46| 18921.0|[564.0,2.0,3.0,7....|\n",
            "|        598|       3|        3|           5.0| 59| 37600.0|[598.0,3.0,3.0,5....|\n",
            "|        614|       4|        3|           7.0| 45| 63473.0|[614.0,4.0,3.0,7....|\n",
            "|        619|       2|        2|           1.0| 52|  1392.0|[619.0,2.0,2.0,1....|\n",
            "|        630|       1|        3|           6.0| 23| 74297.0|[630.0,1.0,3.0,6....|\n",
            "|        643|       4|        1|           7.0| 57| 38908.0|[643.0,4.0,1.0,7....|\n",
            "|        646|       3|        1|          10.0|  1|164197.0|[646.0,3.0,1.0,10...|\n",
            "|        654|       3|        2|           3.0| 34| 27073.0|[654.0,3.0,2.0,3....|\n",
            "|        661|       5|        1|           2.0| 37| 50481.0|[661.0,5.0,1.0,2....|\n",
            "|        689|       4|        3|           3.0| 35| 75284.0|[689.0,4.0,3.0,3....|\n",
            "|        690|       4|        2|           9.0|  3|174152.0|[690.0,4.0,2.0,9....|\n",
            "|        697|       3|        3|           8.0| 29|123181.0|[697.0,3.0,3.0,8....|\n",
            "|        700|       1|        2|           5.0| 16| 92900.0|[700.0,1.0,2.0,5....|\n",
            "|        706|       2|        1|           6.0| 19| 64239.0|[706.0,2.0,1.0,6....|\n",
            "|        725|       5|        1|           5.0|  1|143715.0|[725.0,5.0,1.0,5....|\n",
            "|        741|       2|        3|           6.0|  4|182264.0|[741.0,2.0,3.0,6....|\n",
            "|        762|       2|        1|           4.0| 30| 23168.0|[762.0,2.0,1.0,4....|\n",
            "|        801|       5|        3|           4.0| 50| 72111.0|[801.0,5.0,3.0,4....|\n",
            "+-----------+--------+---------+--------------+---+--------+--------------------+\n",
            "only showing top 20 rows\n",
            "\n",
            "+-----------+--------+---------+--------------+---+--------+--------------------+-------------------+\n",
            "|Size (sqft)|Bedrooms|Bathrooms|Location_Score|Age|   Price|            features|         prediction|\n",
            "+-----------+--------+---------+--------------+---+--------+--------------------+-------------------+\n",
            "|        534|       5|        2|           9.0|  2|174490.0|[534.0,5.0,2.0,9....|   187014.599686018|\n",
            "|        616|       4|        1|           8.0| 47| 33820.0|[616.0,4.0,1.0,8....| 40503.747880907504|\n",
            "|        627|       2|        2|           8.0| 59|-14445.0|[627.0,2.0,2.0,8....|  4143.461725794017|\n",
            "|        660|       1|        2|           5.0| 28| 41594.0|[660.0,1.0,2.0,5....|  51901.19187497109|\n",
            "|        702|       5|        2|           6.0| 41| 51010.0|[702.0,5.0,2.0,6....|  78692.05577368861|\n",
            "|        753|       2|        1|           3.0| 14| 51509.0|[753.0,2.0,1.0,3....|  73627.83346570123|\n",
            "|        891|       1|        1|           6.0| 29| 37002.0|[891.0,1.0,1.0,6....| 51138.207129893664|\n",
            "|        974|       5|        3|           2.0| 38| 90367.0|[974.0,5.0,3.0,2....|  94483.84233072831|\n",
            "|       1062|       2|        1|           9.0| 33| 99583.0|[1062.0,2.0,1.0,9...|   83627.6024827325|\n",
            "|       1063|       5|        2|           1.0|  0|161066.0|[1063.0,5.0,2.0,1...|  170540.1153931289|\n",
            "|       1069|       3|        3|           2.0| 51| 45382.0|[1069.0,3.0,3.0,2...|  42040.96037443564|\n",
            "|       1080|       1|        2|           1.0| 48|-10754.0|[1080.0,1.0,2.0,1...|-133.82771417562742|\n",
            "|       1100|       4|        3|           4.0| 59| 64986.0|[1100.0,4.0,3.0,4...| 49527.968255803025|\n",
            "|       1123|       1|        1|           8.0| 13|150672.0|[1123.0,1.0,1.0,8...| 118493.78831754124|\n",
            "|       1198|       5|        2|           4.0| 14|141885.0|[1198.0,5.0,2.0,4...| 163024.70914633313|\n",
            "|       1232|       2|        3|           8.0| 31|120329.0|[1232.0,2.0,3.0,8...| 129212.95050624781|\n",
            "|       1304|       1|        3|           1.0| 19|116981.0|[1304.0,1.0,3.0,1...| 104883.04214795484|\n",
            "|       1512|       5|        1|           1.0| 34| 67308.0|[1512.0,5.0,1.0,1...|  92781.40500512467|\n",
            "|       1576|       2|        3|           5.0| 57| 56787.0|[1576.0,2.0,3.0,5...|   64136.8088842929|\n",
            "|       1622|       4|        2|           4.0| 31|122174.0|[1622.0,4.0,2.0,4...| 132607.48364030177|\n",
            "+-----------+--------+---------+--------------+---+--------+--------------------+-------------------+\n",
            "only showing top 20 rows\n",
            "\n"
          ]
        }
      ]
    },
    {
      "cell_type": "code",
      "source": [
        "from pyspark.ml.evaluation import RegressionEvaluator\n",
        "\n",
        "# Define evaluator - get the label col (real values) and the predicted colum\n",
        "evaluator = RegressionEvaluator(labelCol=\"Price\", predictionCol=\"prediction\", metricName=\"mae\")\n",
        "mae = evaluator.evaluate(predictions)\n",
        "mse = evaluator.setMetricName(\"mse\").evaluate(predictions)\n",
        "rmse = evaluator.setMetricName(\"rmse\").evaluate(predictions)\n",
        "\n",
        "print(f\"Simple Linear Regression - MAE: {mae}, MSE: {mse}, RMSE: {rmse}\")\n",
        "\n",
        "# Evaluate Multiple Linear Regression\n",
        "mae_multi = evaluator.evaluate(predictions_multi)\n",
        "mse_multi = evaluator.setMetricName(\"mse\").evaluate(predictions_multi)\n",
        "rmse_multi = evaluator.setMetricName(\"rmse\").evaluate(predictions_multi)\n",
        "\n",
        "print(f\"Multiple Linear Regression - MAE: {mae_multi}, MSE: {mse_multi}, RMSE: {rmse_multi}\")\n"
      ],
      "metadata": {
        "colab": {
          "base_uri": "https://localhost:8080/"
        },
        "id": "s2pjRQ7rjKsg",
        "outputId": "1724bc0c-0e83-4ac7-9359-43110cea307c"
      },
      "execution_count": 32,
      "outputs": [
        {
          "output_type": "stream",
          "name": "stdout",
          "text": [
            "Simple Linear Regression - MAE: 41942.70127471511, MSE: 2537222031.9864306, RMSE: 50370.84505928435\n",
            "Multiple Linear Regression - MAE: 18541.454047942676, MSE: 343785518.21196985, RMSE: 18541.454047942676\n"
          ]
        }
      ]
    },
    {
      "cell_type": "code",
      "source": [
        "from pyspark.ml.feature import PCA, VectorAssembler\n",
        "# Assemble all feature columns\n",
        "feature_cols = [col for col in df.columns if col != \"Size (sqft)\"]  # Exclude label\n",
        "assembler = VectorAssembler(inputCols=feature_cols, outputCol=\"features\")\n",
        "data_transformed = assembler.transform(df)\n",
        "\n",
        "# Apply PCA to reduce to 2 components\n",
        "pca = PCA(k=2, inputCol=\"features\", outputCol=\"pca_features\")\n",
        "pca_model = pca.fit(data_transformed)\n",
        "\n",
        "# Transform data\n",
        "pca_result = pca_model.transform(data_transformed)\n",
        "\n",
        "# Show PCA components\n",
        "pca_result.select(\"pca_features\").show(truncate=False)"
      ],
      "metadata": {
        "colab": {
          "base_uri": "https://localhost:8080/"
        },
        "id": "g2qop2O7j0Ad",
        "outputId": "b09ad228-3f08-41b5-804a-61d69289275a"
      },
      "execution_count": 24,
      "outputs": [
        {
          "output_type": "stream",
          "name": "stdout",
          "text": [
            "+----------------------------------------+\n",
            "|pca_features                            |\n",
            "+----------------------------------------+\n",
            "|[-158335.99935680928,15.00574254616826] |\n",
            "|[-251462.99587220702,61.57607715985136] |\n",
            "|[-203427.9950436058,69.63285905888372]  |\n",
            "|[-100909.99661810188,46.32611672950558] |\n",
            "|[-316408.99572423456,65.81540480152191] |\n",
            "|[-183603.99549297744,62.95991287410158] |\n",
            "|[-305303.9982081172,34.9286134059245]   |\n",
            "|[-175072.99632745053,52.24503351586803] |\n",
            "|[-74296.9979378276,29.198913642575764]  |\n",
            "|[-40814.99506962866,62.33839442910039]  |\n",
            "|[-114708.99605597553,54.594074070250485]|\n",
            "|[-206370.99790080823,34.92491613120222] |\n",
            "|[-303012.9987595311,27.67227220682905]  |\n",
            "|[-181569.9974257208,39.936898705447106] |\n",
            "|[-323933.9960051366,63.59684862874288]  |\n",
            "|[-311090.995702459,66.49682798179852]   |\n",
            "|[-249458.99666914105,51.341151881648386]|\n",
            "|[-90366.99663614416,45.42276895982722]  |\n",
            "|[-112860.99608249361,53.28104362992271] |\n",
            "|[-203984.99568756353,61.66203662936199] |\n",
            "+----------------------------------------+\n",
            "only showing top 20 rows\n",
            "\n"
          ]
        }
      ]
    }
  ]
}